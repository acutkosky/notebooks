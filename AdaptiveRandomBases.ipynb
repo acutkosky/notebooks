{
 "cells": [
  {
   "cell_type": "markdown",
   "metadata": {},
   "source": [
    "Many prediction and regression schemes involve fitting models of the form \n",
    "$$\n",
    "\\hat f(x) = \\sum_{i=1}^N \\hat{a}(\\theta_i)\\phi(x;\\theta_i)\n",
    "$$\n",
    "\n",
    "where $\\phi(x;\\theta)$ is some function of $x\\in X$ depending on a parameter $\\theta\\in\\Theta$, and $\\hat a(\\theta_i)\\in \\R$. For example, neural networks and SVMs can both be expressed in this form. A natural way to view this strategy is as an approximation via a finite sum to an integral.\n",
    "\n",
    "$$\n",
    "f(x) = \\int_\\Theta a(\\theta) \\phi(x;\\theta)\\ d\\theta.\n",
    "$$\n",
    "\n",
    "The process of choosing values for $N$ and $\\theta_i$ vary from model to model. In Neural Networks, $N$ is fixed by the person constructing the model, while for an SVM $N$ is the number of support vectors. In Neural Networks, the $\\hat{a}(\\theta_i)$ and $\\theta_i$ are chosen by maximizing some (generally non-convex) objective function via gradient descent. In SVMs, the $\\theta_i$ are set by the data and the $a_i$ are chosen to maximize a (generally convex) objective function. In some instances (e.g. <a href=http://compneuro.uwaterloo.ca/research/nef.html>NEF</a>), the $\\theta_i$ are chosen <i>randomly</i> and the $a_i$ are then set by maximizing an objective function. The plan here is to set up a principled way to choose the $\\theta_i$ in a randomized fashion with accompanying error bounds.\n",
    "\n",
    "Choosing $\\theta_i$ randomly enjoys extremely fast optimization times since very little work is performed in picking the $\\theta_i$ and the optimization of the $\\hat{a}(\\theta_i)$ is now much easier (generally convex, and in the case of least-squares regression even has a closed-form solution). However it's not so clear that this randomization doesn't cost us a lot in terms of accuracy. To get a bound on how much accuracy we lose by choosing each $\\theta_i$ randomly, we can look at <a href=http://pages.cs.wisc.edu/~brecht/papers/08.Rah.Rec.Allerton.pdf>this paper</a> of Rahimi and Recht, which provides a nice bound. We'll briefly sketch their result. Suppose we choose each $\\theta_i$ independently from some distribution $p(\\theta)$. Let $\\|f\\|_p= \\sup_{\\theta}\\frac{|a(\\theta)|}{p(\\theta)}$. Suppose $\\|f\\|_p\\le \\infty$. Also suppose $|\\phi(x;\\theta)|\\le 1$ for all $x,\\theta$. Finally suppose we are interested in minimizing the expectation $\\E_x[(\\hat f(x) - f(x))^2]$ with respect to some given probability measure on the inputs $x$. Then with probability $1-\\delta$ there is a choice of $\\hat{a}(\\theta_i)$ such that\n",
    "$$\n",
    "\\E_x[(\\hat f(x) - f(x))^2] < \\frac{\\|f\\|_p}{\\sqrt{N}}\\left(1+\\sqrt{2\\log\\frac{1}{\\delta}}\\right).\n",
    "$$\n",
    "\n",
    "The proof follows from <a href=https://en.wikipedia.org/wiki/Doob_martingale#McDiarmid.27s_inequality>McDiarmid's inequality</a> and using $\\hat{a}(\\theta_i) = \\frac{a(\\theta_i)}{p(\\theta_i)N}$; effectively we are employing <a href=https://en.wikipedia.org/wiki/Importance_sampling>importance sampling</a> to approximate $f(x)$. \n",
    "\n",
    "This is a very interesting statement - as long as our sampling distribution $p(\\theta)$ is reasonably compatible with the function $f$, we will do pretty well by just randomly picking $\\theta_i$ - we can even pick them independently!\n",
    "\n",
    "This equation also implies that ideally we would sample $\\theta_i$ from some distribution $p(\\theta)$ such that $\\|f\\|_p$ is as small as possible. Thus a fully general approximation scheme would tune $p(\\theta)$ to perform better given data about the function of interest $f$. The optimal distribution from this perspective is one such that $p(\\theta)\\propto |a(\\theta)|$. However, it may not be very easy to acquire samples from this distribution. Instead we'll describe a simpler distribution, and then prove a bound on performance using this distribution."
   ]
  },
  {
   "cell_type": "markdown",
   "metadata": {},
   "source": [
    "Before describing a proposal for $p(\\theta)$, let's examine a slightly different function, $\\tilde f(x)$. First, let $\\mu$ be a probability measure on inputs $x\\in X$. Then define an inner-product\n",
    "$$\n",
    "k(\\theta,\\theta') = \\int_X \\phi(x;\\theta)\\phi(x;\\theta')\\ \\mu(dx)\n",
    "$$\n",
    "\n",
    "Let\n",
    "$$\n",
    "c_\\theta = \\frac{\\int_\\Theta a(\\bar \\theta) k(\\theta,\\bar\\theta)\\ d \\bar\\theta}{\\int_\\Theta k(\\theta,\\bar \\theta)\\ d\\bar\\theta}\n",
    "$$\n",
    "\n",
    "so that $c_\\theta$ is the expectation of $a(\\bar\\theta)$ under the distribution $k_\\theta(\\bar\\theta)\\propto k(\\theta,\\bar\\theta)$. Then we set\n",
    "$$\n",
    "\\tilde f(x) = \\int_\\Theta c_\\theta \\phi(x;\\theta)\\ d\\theta.\n",
    "$$\n",
    "\n",
    "Our strategy will have two stages. First we will show that under some reasonable smoothness conditions, $\\tilde f(x)\\approx f(x)$. Then we will provide a way to sample from a $p(\\theta)$ with $p(\\theta)\\propto c_\\theta$. These results, together with the theorem of Rahimi and Recht will give a general way to approximate $f$."
   ]
  },
  {
   "cell_type": "markdown",
   "metadata": {},
   "source": [
    "Intuitively, one expects $\\tilde f$ to approximate $f$ because when the functions $\\phi(x;\\theta)$ are very different for different $\\theta$ values, we have $c_\\theta\\approx a(\\theta)$.\n",
    "\n",
    "In the following we formalize this intuition. To make life easier (at least in the long term hopefully), we'll define some more notation:\n",
    "$$\n",
    "K_\\theta = \\int_\\Theta k(\\theta,\\bar\\theta)\\ d\\bar\\theta\n",
    "$$\n",
    "$$\n",
    "k_\\theta(\\bar\\theta) = \\frac{k(\\theta,\\bar\\theta)}{K_\\theta}\n",
    "$$\n",
    "so that\n",
    "$$\n",
    "\\int_\\Theta k_\\theta(\\bar\\theta)\\ d\\bar\\theta = 1\n",
    "$$\n",
    "$$\n",
    "c_\\theta = \\int_\\Theta a(\\bar \\theta) k_\\theta(\\bar\\theta)\\ d\\theta\n",
    "$$\n",
    "And we also make a couple of assumptions:\n",
    "\n",
    "<ol>\n",
    "<li>\n",
    "We'll quantify how fast $k_\\theta(\\bar\\theta)$ falls off (in particular, we assume that it does in fact fall off):\n",
    "$$\n",
    "\\int_\\Theta |\\theta-\\bar\\theta| k_\\theta(\\bar\\theta)\\ d\\bar\\theta = M_\\theta\n",
    "$$\n",
    "$$\n",
    "\\sup_\\Theta M_\\theta = M_\\sup\n",
    "$$\n",
    "</li>\n",
    "<li>\n",
    "Also, we will assume that $a(\\theta)$ is <a href=https://en.wikipedia.org/wiki/Lipschitz_continuity>Lipschitz continuous</a>:\n",
    "$$\n",
    "|a(\\theta)-a(\\theta')|\\le L_a |\\theta-\\theta'|\n",
    "$$\n",
    "</li>\n",
    "</ol>\n",
    "\n",
    "These two assumptions capture a few important pieces of intuition:\n",
    "<OL>\n",
    "<LI> We are assuming that the $\\theta$ values that are close together produce $\\phi(x;\\theta)$ functions that are similar (i.e. are correlated) and $\\theta$ values that are far apart produce $\\phi(x;\\theta)$ functions that are dissimilar.\n",
    "<LI> Since nearby $\\theta$ values produce similar basis functions $\\phi(x;\\theta)$, we should expect the weightings $a(\\theta)$ to be close to each other.\n",
    "</OL>\n",
    "\n",
    "We also define $|\\phi|^2$ as\n",
    "$$\n",
    "|\\phi|^2 = \\int_X\\left(\\int_\\Theta |\\phi(x;\\theta)|\\ d\\theta\\right)^2\\ \\mu(dx)\n",
    "$$"
   ]
  },
  {
   "cell_type": "markdown",
   "metadata": {},
   "source": [
    "With these assumption we can show a useful fact:\n",
    "\n",
    "Define $\\epsilon_\\theta =a(\\theta)-c_\\theta = \\int_\\Theta \\left(a(\\theta)-a(\\bar\\theta)\\right)k_\\theta(\\bar\\theta)\\ d\\bar\\theta$. We have\n",
    "$$\n",
    "|\\epsilon_\\theta | = \\left|\\int_\\Theta \\left(a(\\theta)-a(\\bar\\theta)\\right)k_\\theta(\\bar\\theta)\\ d\\bar\\theta\\right| \\le\\int_\\Theta |k_\\theta(\\bar\\theta)(\\theta-\\bar\\theta)L_a|\\ d\\bar\\theta \\le M_\\theta L_a\n",
    "$$"
   ]
  },
  {
   "cell_type": "markdown",
   "metadata": {},
   "source": [
    "Now we put this all together to see that:\n",
    "$$\n",
    "\\begin{align}\n",
    "\\int_X (\\tilde f(x) - f(x))^2\\ \\mu(dx)&=\\int_X\\left(\\int_\\Theta (c_\\theta-a(\\theta)) \\phi(x;\\theta)\\ d\\theta\\right)^2\\ \\mu(dx)\\\\\n",
    "&\\le\\int_X \\left(\\int_\\Theta M_\\theta L_\\alpha |\\phi(x;\\theta)|\\ d\\theta\\right)^2 \\mu(dx)\\\\\n",
    "&\\le M_\\sup^2L_a^2|\\phi|^2\n",
    "\\end{align}\n",
    "$$"
   ]
  },
  {
   "cell_type": "markdown",
   "metadata": {},
   "source": [
    "So this shows that when we use $c_\\theta$ in place of $a(\\theta)$ we might expect not to lose that much. However this doesn't immediately help - we don't actually know what $c_\\theta$ is either!\n",
    "\n",
    "Fortunately, $c_\\theta$ turns out to be much easier to estimate:\n",
    "$$\n",
    "\\begin{align}\n",
    "c_\\theta &= \\frac{\\int_\\Theta a(\\bar \\theta) k(\\theta,\\bar\\theta)\\ d \\bar\\theta}{\\int_\\Theta k(\\theta,\\bar \\theta)\\ d\\bar\\theta}\\\\ \n",
    "&= \\frac{\\int_\\Theta\\int_X \\phi(x;\\theta)\\phi(x;\\bar\\theta)a(\\bar\\theta)\\ \\mu(dx)\\, d\\bar\\theta}{\\int_\\Theta k(\\theta,\\bar \\theta)\\ d\\bar\\theta}\\\\\n",
    "&=\\frac{\\int_X \\phi(x;\\theta) f(x)\\ \\mu(dx)}{\\int_\\Theta k(\\theta,\\bar \\theta)\\ d\\bar\\theta}\\\\\n",
    "&=\\frac{\\E_X[ \\phi(x;\\theta) f(x)]}{\\E_X[\\int_\\Theta \\phi(x;\\theta)\\phi(x;\\bar\\theta)\\ d\\bar\\theta]}\n",
    "\\end{align}\n",
    "$$\n",
    "Given the ability to draw independent samples $(x,f(x))$ with $x$ distributed according to $\\mu$, the above allows us to estimate $c_\\theta$ using Monte-Carlo integration."
   ]
  },
  {
   "cell_type": "markdown",
   "metadata": {},
   "source": [
    "Since we know how to estimate $c_\\theta$, we can sample from a distribution $p(\\theta)\\propto |c_\\theta|$ by various methods. One could use MCMC for this, but in the following we'll just compute $c_\\theta$ for a large number of $\\theta$ values and choose from the resulting discrete distribution over the chosen values."
   ]
  },
  {
   "cell_type": "markdown",
   "metadata": {},
   "source": [
    "In case you don't feel like reading through the code (imagine that), I'll summarize the highlights here.\n",
    "\n",
    "In general we were looking for a function $\\hat f(x) = \\sum_{i=1}^N \\hat a(\\theta_i)\\phi(x;\\theta_i)$ that minimizes\n",
    "$$\n",
    "J = \\frac{1}{2}\\E_x[(\\hat f(x)-f(x))^2] + \\frac{\\lambda}{2}\\sum_{i=1}^N \\hat a(\\theta_i)^2\n",
    "$$\n",
    "\n",
    "I used two schemes:\n",
    "\n",
    "<ol>\n",
    "<li> randomly choosing $N$ fixed basis functions $\\phi(x;\\theta_1),\\dots,\\phi(x;\\theta_N)$ and optimizing weights $\\hat a(\\theta_i)$ in order to minimize $J$. Let's call this a \"fixed basis\" scheme.</li>\n",
    "<li> using the BFGS algorithm to optimize both $\\theta_i$ and $\\hat a(\\theta_i)$\n",
    "</ol>\n",
    "\n",
    "I set $\\phi(x;\\theta)=\\max(0,\\theta\\cdot x)$ (rectified linear units). The inputs $x$ were uniformly distributed in $[-1,1]^{10}$. To pick the function $f$, I chose $1000$ random $\\theta$ values (also uniformly distributed in $[-1,1]^{10}$ and computed the singular value decomposition of the matrix of values $\\phi(x_i,\\theta_j)$. $f$ was chosen to be the $10$th singular vector of this decomposition, scaled so that the average value of $f(x)^2$ was 1. The motivation behind this is that the singular vectors should represent in some sense a sequence of \"increasingly hard\" functions to approximate. This is because adding a little bit of $L_2$ regularization causes greater RMSE on vectors with lower singular values.\n",
    "\n",
    "Now for each of the two schemes above, I used \"non-adaptive\" and \"adaptive\" $\\theta$ values. For scheme 1 (fixed basis), \"non-adaptive\" means that the $\\theta_i$ are drawn from the same distribution that the $1000$ $\\theta$ values used to choose $f$ were drawn from. \"Adaptive\" means of course that they are chosen according to $c_\\theta$. For scheme 2, the chosen $\\theta$ values were used to initialize the BFGS algorithm.\n",
    "\n",
    "I computed (via trial-and-error basically; the code for this is not shown) values of $N$ for which the fixed-basis function schemes achieves a $J$ value of $0.0003125$ ($2.5\\%$ RMSE). The values are shown below:\n",
    "$$\n",
    "\\begin{array}{c|cc}\n",
    "N,\\text{ RMSE, time}&\\text{Fixed Basis Functions}&\\ \\text{BFGS}\\\\\n",
    "\\hline\n",
    "\\text{non-adaptive}&10000,\\ 0.026,\\ 22\\text{ seconds }&\\ 1000,\\ 0.033,\\ 1440\\text{ seconds }\\\\\n",
    "\\text{adaptive}&7000,\\ 0.025,\\ 24\\text{ seconds }&\\ 1000,\\ 0.033,\\ 1264\\text{ seconds }\n",
    "\\end{array}\n",
    "$$\n",
    "\n",
    "So one can see that using adaptive choices provides a significant reduction in number of basis functions required when we are not allowed to optimize the basis functions themselves. I didn't run the full BFGS optimization at a high enough number of basis vectors to achieve comporable error because I got too impatient. This highlights the point that the random methods are significantly faster than using a more complicated optimization proceedure. However, the BFGS optimization should be expected to achieve significant savings in terms of number of basis functions used even if it takes much longer to train.\n",
    "\n",
    "In fact, if we are satisfied with an RMSE of $0.05$ rather than $0.025$, then by optimizing the basis functions using BFGS we only need roughly $175$ basis functions while using the adaptively chosen random basis functions we need about $1200$, and $2000$ for the non-adaptive random method. As a further caveat, if we increase the difficulty of the problem by increasing the index of the singular value used to choose the function $f$ the number of basis functions needed to achieve low error increases very quickly, and the advantage accrued by using the adaptive method becomes less obvious. On the other hand, the cost in terms of time for doing the adaptive method is relatively small and so perhaps this is not such a big deal."
   ]
  },
  {
   "cell_type": "markdown",
   "metadata": {},
   "source": [
    "Ok time for the code. Let's set up some framework for computing the output of a neural net with rectified linear activation functions."
   ]
  },
  {
   "cell_type": "code",
   "execution_count": 1,
   "metadata": {
    "collapsed": true
   },
   "outputs": [],
   "source": [
    "# <!-- collapse=True -->\n",
    "import numpy as np\n",
    "from matplotlib import pyplot as plt\n",
    "import scipy.optimize\n",
    "import scipy.stats\n",
    "from copy import copy\n",
    "import time\n",
    "%matplotlib inline"
   ]
  },
  {
   "cell_type": "code",
   "execution_count": 30,
   "metadata": {
    "collapsed": false
   },
   "outputs": [
    {
     "name": "stdout",
     "output_type": "stream",
     "text": [
      "Time:  6.99999873177e-06\n",
      "numerical to analytical difference:  5.81163073336e-07\n"
     ]
    }
   ],
   "source": [
    "# <!-- collapse=False -->\n",
    "def relu(x):\n",
    "    return np.maximum(0,x)\n",
    "\n",
    "def reluprime(x):\n",
    "    return np.clip(np.sign(x),0,1)\n",
    "\n",
    "def EvalModel(X,E,W,tuning = relu):\n",
    "    return np.dot(W,tuning(np.dot(E,np.transpose(X))))\n",
    "\n",
    "def num_derivative(f,x,epsilon=0.000001):\n",
    "    fx = f(x)\n",
    "    xi = copy(x)\n",
    "    g = np.zeros(len(x))\n",
    "    for i in xrange(len(x)):\n",
    "        xi[i] += epsilon\n",
    "        g[i] = (f(xi)-f(x))/epsilon\n",
    "        xi[i] -= epsilon\n",
    "    return g\n",
    "\n",
    "def ReluDerivative(X,Z,E,W):\n",
    "    \"\"\"This function implements the chain rule (also called backprop)\"\"\"\n",
    "    Egrad = np.zeros(np.shape(E))\n",
    "    Wgrad = np.zeros(np.shape(W))\n",
    "    errs = EvalModel(X,E,W,relu)-Z\n",
    "    transdot = np.dot(E,np.transpose(X))\n",
    "    Wgrad = np.sum(errs*relu(transdot),axis = 1)\n",
    "    errfp = np.transpose(np.dot(np.transpose(X),W*np.transpose(errs*reluprime(transdot))))\n",
    "    return errfp/len(X),Wgrad/len(X)\n",
    "\n",
    "def ReluObjective(X,Z,E,W):\n",
    "    err = np.linalg.norm(EvalModel(X,E,W,relu)-Z)**2\n",
    "    return err*0.5/len(X)\n",
    "\n",
    "def RandEnc(n,d):\n",
    "    return np.random.uniform(-1,1,(n,d))\n",
    "\n",
    "def RunPackedRelu(x,P,n):\n",
    "    d = len(x)\n",
    "    E = np.reshape(P[:n*d],(n,d))\n",
    "    W = P[n*d:]\n",
    "    return EvalModel(x,E,W,relu)\n",
    "\n",
    "def PackParams(E,W):\n",
    "    return np.append(E.flatten(),W)\n",
    "\n",
    "def UnPackParams(P,n,d):\n",
    "    return np.reshape(P[:n*d],(n,d)),P[n*d:]\n",
    "\n",
    "def GetObjFunc(X,Z,n,d,l=0):\n",
    "    mask = np.zeros(n*d+n)\n",
    "    mask[n*d:]= 1.0\n",
    "    return lambda P: ReluObjective(X,Z,*UnPackParams(P,n,d))+l/2.0*np.linalg.norm(P*mask)**2\n",
    "\n",
    "def GetDerFunc(X,Z,n,d,l=0):\n",
    "    mask = np.zeros(n*d+n)\n",
    "    mask[n*d:]= 1.0\n",
    "    return lambda P: PackParams(*ReluDerivative(X,Z,*UnPackParams(P,n,d)))+l*P*mask\n",
    "\n",
    "def GetDecObjFunc(X,Z,E,n,d,l=0):\n",
    "    return lambda P: ReluObjective(X,Z,E,P)+l/2.0*np.linalg.norm(P)**2\n",
    "\n",
    "def GetDecDerFunc(X,Z,E,n,d,l=0):\n",
    "    return lambda P: ReluDerivative(X,Z,E,P)[1]+l*P\n",
    "\n",
    "def TestDer():\n",
    "    n = 10\n",
    "    d = 5\n",
    "    p = 3\n",
    "    E = RandEnc(n,d)\n",
    "    W = np.random.uniform(-1,1,n)\n",
    "    x = np.random.uniform(-1,1,(p,d))\n",
    "    z = [np.random.uniform(-1,1) for i in range(p)]\n",
    "    obj = GetObjFunc(x,z,n,d,0.2) #objective function\n",
    "    start = time.clock()\n",
    "    der = GetDerFunc(x,z,n,d,0.2) #derivative function\n",
    "    end = time.clock()\n",
    "    print \"Time: \",end-start\n",
    "    nd = num_derivative(obj,PackParams(E,W)) #numerical derivative\n",
    "    ad = der(PackParams(E,W)) #analytical derivative\n",
    "    \n",
    "    print \"numerical to analytical difference: \",np.linalg.norm(nd-ad)/np.linalg.norm(nd)\n",
    "    \n",
    "TestDer()"
   ]
  },
  {
   "cell_type": "markdown",
   "metadata": {},
   "source": [
    "Our objective and derivative computation checks out. Now we'll setup a testing scenario. To do this we will first generate a random set of inputs and encoding weights and compute the SVD of the resulting activation function to get a number of functions with varying degrees of easiness to fit. The idea here is that singular vectors with low singular values are harder to fit - intuitively these are functions for which $a(\\theta)$ has high magnitude. Then we'll fit the functions with an standard black-box optimization algorithm (BFGS) as well as randomization and see what happens!"
   ]
  },
  {
   "cell_type": "code",
   "execution_count": 3,
   "metadata": {
    "collapsed": false
   },
   "outputs": [],
   "source": [
    "# <!-- collapse=False -->\n",
    "def randomX(p,d):\n",
    "    return np.random.uniform(-1,1,(p,d))\n",
    "\n",
    "def randomfuncs(p,d,n):\n",
    "    E = RandEnc(n,d)\n",
    "    X = randomX(p,d)\n",
    "    A = relu(np.dot(E,np.transpose(X)))\n",
    "    u,s,v = np.linalg.svd(A)\n",
    "    plt.plot(s)\n",
    "    plt.yscale('log')\n",
    "    plt.ylabel('Singular Values')\n",
    "    plt.show()\n",
    "    return v*np.sqrt(p),E,X,s #rows of v are eigenvectors of AtA\n",
    "\n",
    "def fitfunc(X,Z,n,E0=None,l=0):\n",
    "    d = len(X[0])\n",
    "    p = len(Z)\n",
    "    grad = GetDerFunc(X,Z,n,d,l)\n",
    "    obj = GetObjFunc(X,Z,n,d,l)\n",
    "    if(E0==None):\n",
    "        E0 = RandEnc(n,d)\n",
    "    P0 = PackParams(E0,np.random.normal(0,0.1,n)) #initial guess\n",
    "    bounds = tuple([(-1,1) for i in xrange(n*d)]+[(None,None) for i in xrange(n)])\n",
    "    \n",
    "    opt = scipy.optimize.fmin_l_bfgs_b(func = obj,x0 = P0,fprime = grad,disp = -1, bounds = bounds)\n",
    "    xopt = opt[0]\n",
    "    fopt = obj(xopt)\n",
    "    return fopt\n",
    "\n",
    "\n",
    "def decode(X,Z,E,l=0.0):\n",
    "    \"\"\"computes a linear decode given inputs X,\n",
    "        targets Z, theta values in E, and regularization constant l\"\"\"\n",
    "    n = np.shape(E)[0]\n",
    "    d = np.shape(E)[1]\n",
    "    A = relu(np.dot(X,np.transpose(E)))\n",
    "    opt = scipy.sparse.linalg.lsqr(A,Z,np.sqrt(l*len(Z)/2))\n",
    "    obj = GetObjFunc(X,Z,n,d,l)\n",
    "    return obj(PackParams(E,opt[0]))\n",
    "\n",
    "def getdecode(X,Z,E,l=0.0):\n",
    "    n = np.shape(E)[0]\n",
    "    d = np.shape(E)[1]\n",
    "    A = relu(np.dot(X,np.transpose(E)))\n",
    "    opt = scipy.sparse.linalg.lsqr(A,Z,np.sqrt(l*len(Z)/2))\n",
    "    obj = GetObjFunc(X,Z,n,d,l)\n",
    "    return opt[0]\n",
    "\n",
    "def getlinearerror(X,Z,l=0.0):\n",
    "    \"\"\"computes the error from fitting Z with a linear map Z=WX\"\"\"\n",
    "    opt = scipy.sparse.linalg.lsqr(X,Z,np.sqrt(l*len(Z)/2))\n",
    "    return np.linalg.norm(np.dot(X,opt[0])-Z)**2/len(Z) + l/2.0*np.linalg.norm(opt[0])**2\n",
    "\n",
    "def Ctheta(theta,X,Z,tsamples = 1000,A=None,xsamples=None):\n",
    "    \"\"\"computes Ctheta distribution using tsamples\"\"\"\n",
    "    d = np.shape(X)[1]\n",
    "    p = len(Z)\n",
    "    if(xsamples == None):\n",
    "        xsamples = np.arange(len(X))\n",
    "    phitheta = relu(np.dot(X[xsamples],theta))\n",
    "    numerator = np.dot(phitheta,Z[xsamples])\n",
    "    \n",
    "    if(A == None):\n",
    "        Es = RandEnc(tsamples,d)\n",
    "        A = relu(np.dot(E,np.transpose(X))) #d by n\n",
    "\n",
    "    denominator =  np.sum(np.dot(A,phitheta)/samples)\n",
    "    \n",
    "    return numerator/denominator\n",
    "\n",
    "def getsamples(dist,N):\n",
    "    a = np.linalg.norm(dist,1)\n",
    "    p = np.abs(dist)/a\n",
    "    sampler = scipy.stats.rv_discrete(values=(range(len(dist)), p))\n",
    "    return sampler.rvs(size = N)\n"
   ]
  },
  {
   "cell_type": "code",
   "execution_count": 4,
   "metadata": {
    "collapsed": false
   },
   "outputs": [
    {
     "data": {
      "image/png": "[encoded data removed]",
      "text/plain": [
       "<matplotlib.figure.Figure at 0x7f8ca85b2450>"
      ]
     },
     "metadata": {},
     "output_type": "display_data"
    }
   ],
   "source": [
    "# <!-- collapse=False -->\n",
    "d = 10\n",
    "p = 10000\n",
    "\n",
    "v,Ev,X,s = randomfuncs(p,d,1000)"
   ]
  },
  {
   "cell_type": "markdown",
   "metadata": {},
   "source": [
    "Now we've got a list of functions stored in the matrix $v$. We'll use the $10^{th}$ singular vector to run our approximations. I've experimented around already to find numbers of basis functions to use that put the non-BFGS methods at an RMSE of nearly $0.025$. The function we're fitting will be normalized so that predicting zero at all points achieves an RMSE of $1.0$."
   ]
  },
  {
   "cell_type": "code",
   "execution_count": 5,
   "metadata": {
    "collapsed": false
   },
   "outputs": [
    {
     "name": "stdout",
     "output_type": "stream",
     "text": [
      "Got Ctheta values\n",
      "Time:  4.480582\n"
     ]
    }
   ],
   "source": [
    "# <!-- collapse=False -->\n",
    "samples = 100000\n",
    "approxsamples = 100\n",
    "hardness = 10\n",
    "E = RandEnc(samples,d)\n",
    "\n",
    "\n",
    "start_theta = time.clock()\n",
    "xsamples = np.random.choice(np.arange(p),approxsamples)\n",
    "A = relu(np.dot(RandEnc(approxsamples,d),np.transpose(X[xsamples])))\n",
    "Cthetas = [Ctheta(theta,X,v[hardness],approxsamples,A=A,xsamples = xsamples) for theta in E]\n",
    "end_theta = time.clock()\n",
    "\n",
    "print \"Got Ctheta values\"\n",
    "print \"Time: \",end_theta-start_theta\n"
   ]
  },
  {
   "cell_type": "code",
   "execution_count": 6,
   "metadata": {
    "collapsed": false
   },
   "outputs": [
    {
     "name": "stdout",
     "output_type": "stream",
     "text": [
      "Baseline Error:  0.119956800611\n",
      "Randomized Start decode error:  0.0261701919643\n",
      "Time:  22.2514216\n",
      "Adaptive Start decode error:  0.025090050377\n",
      "Time:  19.2620488\n",
      "Total Adaptive Time:  23.7426308\n"
     ]
    }
   ],
   "source": [
    "# <!-- collapse=False -->\n",
    "numada = 7000\n",
    "numrand = 10000\n",
    "l=0.1\n",
    "print \"Baseline Error: \",np.sqrt(2*getlinearerror(X,v[hardness],0))\n",
    "\n",
    "rtime = 0\n",
    "ropt = 0\n",
    "numi = 10\n",
    "for i in range(numi):\n",
    "    indices = getsamples(np.ones(len(E)),numrand)\n",
    "    E0 = RandEnc(numrand,d)#E[indices]\n",
    "    start = time.clock()\n",
    "    opt = decode(X,v[hardness],E0,l)\n",
    "    end= time.clock()\n",
    "    rtime += (end-start)/float(numi)\n",
    "    ropt += opt/numi\n",
    "print \"Randomized Start decode error: \",np.sqrt(2*ropt)\n",
    "print \"Time: \",rtime\n",
    "\n",
    "atime = 0\n",
    "aopt = 0\n",
    "for i in range(numi):\n",
    "    indices = getsamples(Cthetas,numada)\n",
    "    E0 = E[indices]\n",
    "    start = time.clock()\n",
    "    opt = decode(X,v[hardness],E0,l)\n",
    "    end= time.clock()\n",
    "    atime += (end-start)/float(numi)\n",
    "    aopt += opt/numi\n",
    "\n",
    "print \"Adaptive Start decode error: \",np.sqrt(2*aopt)\n",
    "print \"Time: \",atime\n",
    "\n",
    "print \"Total Adaptive Time: \",atime+end_theta-start_theta"
   ]
  },
  {
   "cell_type": "code",
   "execution_count": 7,
   "metadata": {
    "collapsed": false
   },
   "outputs": [
    {
     "name": "stdout",
     "output_type": "stream",
     "text": [
      "Random Start BFGS Error:  0.0333144119113\n",
      "Time:  1440.8773858\n"
     ]
    }
   ],
   "source": [
    "# <!-- collapse=False -->\n",
    "numbfgs = 1000\n",
    "rbtime = 0\n",
    "rbopt = 0\n",
    "for i in range(numi):\n",
    "    indices = getsamples(np.ones(len(E)),numbfgs)\n",
    "    E0 = RandEnc(numbfgs,d)#E[indices]\n",
    "    start = time.clock()\n",
    "    opt = fitfunc(X,v[hardness],numbfgs,E0=E0,l=l)\n",
    "    end = time.clock()\n",
    "    rbtime += (end-start)/numi\n",
    "    rbopt += opt/numi\n",
    "print \"Random Start BFGS Error: \",np.sqrt(2*rbopt)\n",
    "print \"Time: \",rbtime"
   ]
  },
  {
   "cell_type": "code",
   "execution_count": 8,
   "metadata": {
    "collapsed": false
   },
   "outputs": [
    {
     "name": "stdout",
     "output_type": "stream",
     "text": [
      "Adaptive Start BFGS Error:  0.0339679040565\n",
      "Time:  1260.1757173\n",
      "Total Adaptive BFGS Time:  1264.6562993\n"
     ]
    }
   ],
   "source": [
    "# <!-- collapse=False -->\n",
    "numbfgs = 1000\n",
    "abtime = 0\n",
    "abopt = 0\n",
    "for i in range(numi):\n",
    "    indices = getsamples(Cthetas,numbfgs)\n",
    "    E0 = E[indices]\n",
    "    start = time.clock()\n",
    "    opt = fitfunc(X,v[hardness],numbfgs,E0=E0,l=l)\n",
    "    end = time.clock()\n",
    "    abtime += (end-start)/numi\n",
    "    abopt += opt/numi\n",
    "print \"Adaptive Start BFGS Error: \",np.sqrt(2*abopt)\n",
    "print \"Time: \",abtime\n",
    "print \"Total Adaptive BFGS Time: \",abtime +end_theta-start_theta"
   ]
  }
 ],
 "metadata": {
  "kernelspec": {
   "display_name": "Python 2",
   "language": "python",
   "name": "python2"
  },
  "language_info": {
   "codemirror_mode": {
    "name": "ipython",
    "version": 2
   },
   "file_extension": ".py",
   "mimetype": "text/x-python",
   "name": "python",
   "nbconvert_exporter": "python",
   "pygments_lexer": "ipython2",
   "version": "2.7.5"
  }
 },
 "nbformat": 4,
 "nbformat_minor": 0
}
